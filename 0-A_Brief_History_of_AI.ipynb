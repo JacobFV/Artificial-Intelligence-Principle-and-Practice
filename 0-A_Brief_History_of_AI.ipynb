{
 "cells": [
  {
   "cell_type": "markdown",
   "id": "natural-notice",
   "metadata": {
    "execution": {
     "iopub.execute_input": "2021-09-06T12:56:06.380449Z",
     "iopub.status.busy": "2021-09-06T12:56:06.379508Z",
     "iopub.status.idle": "2021-09-06T12:56:06.393510Z",
     "shell.execute_reply": "2021-09-06T12:56:06.391109Z",
     "shell.execute_reply.started": "2021-09-06T12:56:06.380145Z"
    },
    "tags": []
   },
   "source": [
    "# A Brief History of AI"
   ]
  },
  {
   "cell_type": "markdown",
   "id": "illegal-authentication",
   "metadata": {},
   "source": [
    "[![](content/fig8_Toosi_2021.png) (Toosi 2021)](https://arxiv.org/pdf/2109.01517.pdf)"
   ]
  },
  {
   "cell_type": "markdown",
   "id": "collective-flavor",
   "metadata": {
    "execution": {
     "iopub.execute_input": "2021-09-06T13:27:40.856378Z",
     "iopub.status.busy": "2021-09-06T13:27:40.855158Z",
     "iopub.status.idle": "2021-09-06T13:27:40.870523Z",
     "shell.execute_reply": "2021-09-06T13:27:40.866286Z",
     "shell.execute_reply.started": "2021-09-06T13:27:40.856044Z"
    },
    "tags": []
   },
   "source": [
    "## Good Old-Fashioned AI"
   ]
  },
  {
   "cell_type": "code",
   "execution_count": null,
   "id": "demographic-testing",
   "metadata": {},
   "outputs": [],
   "source": []
  }
 ],
 "metadata": {
  "kernelspec": {
   "display_name": "Python 3",
   "language": "python",
   "name": "python3"
  },
  "language_info": {
   "codemirror_mode": {
    "name": "ipython",
    "version": 3
   },
   "file_extension": ".py",
   "mimetype": "text/x-python",
   "name": "python",
   "nbconvert_exporter": "python",
   "pygments_lexer": "ipython3",
   "version": "3.8.3"
  }
 },
 "nbformat": 4,
 "nbformat_minor": 5
}
