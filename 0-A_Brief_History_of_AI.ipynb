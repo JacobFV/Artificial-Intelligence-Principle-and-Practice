{
 "cells": [
  {
   "cell_type": "markdown",
   "id": "interim-premises",
   "metadata": {
    "execution": {
     "iopub.execute_input": "2021-09-06T12:56:06.380449Z",
     "iopub.status.busy": "2021-09-06T12:56:06.379508Z",
     "iopub.status.idle": "2021-09-06T12:56:06.393510Z",
     "shell.execute_reply": "2021-09-06T12:56:06.391109Z",
     "shell.execute_reply.started": "2021-09-06T12:56:06.380145Z"
    },
    "tags": []
   },
   "source": [
    "# A Brief History of AI"
   ]
  },
  {
   "cell_type": "markdown",
   "id": "needed-messenger",
   "metadata": {
    "execution": {
     "iopub.execute_input": "2021-09-06T12:56:42.113923Z",
     "iopub.status.busy": "2021-09-06T12:56:42.113664Z",
     "iopub.status.idle": "2021-09-06T12:56:42.116628Z",
     "shell.execute_reply": "2021-09-06T12:56:42.116019Z",
     "shell.execute_reply.started": "2021-09-06T12:56:42.113895Z"
    },
    "tags": []
   },
   "source": [
    "## Good Old-Fashoined AI"
   ]
  },
  {
   "cell_type": "markdown",
   "id": "strategic-danish",
   "metadata": {},
   "source": [
    "![](content/history.png)\n",
    "\n",
    "[(Toosi 2021)](https://arxiv.org/abs/2109.01517)"
   ]
  }
 ],
 "metadata": {
  "kernelspec": {
   "display_name": "Python 3",
   "language": "python",
   "name": "python3"
  },
  "language_info": {
   "codemirror_mode": {
    "name": "ipython",
    "version": 3
   },
   "file_extension": ".py",
   "mimetype": "text/x-python",
   "name": "python",
   "nbconvert_exporter": "python",
   "pygments_lexer": "ipython3",
   "version": "3.8.3"
  }
 },
 "nbformat": 4,
 "nbformat_minor": 5
}
